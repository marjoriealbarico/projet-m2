{
 "cells": [
  {
   "cell_type": "markdown",
   "id": "11b20678-fe25-4211-9c10-c239140895c1",
   "metadata": {},
   "source": [
    "## Les librairie utilisées "
   ]
  },
  {
   "cell_type": "code",
   "execution_count": 1,
   "id": "d89ba852-4362-4fee-b4ef-14562c26ef4d",
   "metadata": {},
   "outputs": [],
   "source": [
    "import pandas as pd\n",
    "import matplotlib.pyplot as plt"
   ]
  },
  {
   "cell_type": "markdown",
   "id": "8023357f-59d0-4130-aea9-55a2f890ff87",
   "metadata": {},
   "source": [
    "## Chargement des fichiers/ données de mobilité du Grand Poitiers "
   ]
  },
  {
   "cell_type": "code",
   "execution_count": 2,
   "id": "1f1b8aa3-6ed1-45d6-8d34-6e8b48dcb15f",
   "metadata": {},
   "outputs": [],
   "source": [
    "agency = pd.read_csv(\"agency.txt\")\n",
    "stops = pd.read_csv(\"stops.txt\")\n",
    "routes = pd.read_csv(\"routes.txt\")\n",
    "trips = pd.read_csv(\"trips.txt\")\n",
    "stop_times = pd.read_csv(\"stop_times.txt\")\n",
    "calendar = pd.read_csv(\"calendar.txt\")\n",
    "calendar_dates = pd.read_csv(\"calendar_dates.txt\")\n"
   ]
  },
  {
   "cell_type": "markdown",
   "id": "be9b1e7f-9a15-4bc9-9e4f-3f8f5b099b45",
   "metadata": {},
   "source": [
    "## Nettoyage et converstion"
   ]
  },
  {
   "cell_type": "code",
   "execution_count": 3,
   "id": "2dd0c484-95da-4b58-bc44-37a951cf9477",
   "metadata": {},
   "outputs": [],
   "source": [
    "#  les heures en format \"durée\"\n",
    "#stop_times[\"arrival_time\"] = pd.to_timedelta(stop_times[\"arrival_time\"], errors='coerce')\n",
    "#stop_times[\"departure_time\"] = pd.to_timedelta(stop_times[\"departure_time\"], errors='coerce')\n",
    "\n",
    "# suppression des lignes où il manque des horaires\n",
    "#stop_times.dropna(subset=[\"arrival_time\", \"departure_time\"], inplace=True)"
   ]
  },
  {
   "cell_type": "markdown",
   "id": "160aeae3-6a96-4260-8155-c6c58dd696ae",
   "metadata": {},
   "source": [
    "#### En fonction du MCD/MLD que nous avons fait,les données des trajets et des arrêt peuvent etre merger ensemble afin de nous permettre de mieux gérer les fichiers et croiser les données entre elle ( à complèter) "
   ]
  },
  {
   "cell_type": "code",
   "execution_count": 4,
   "id": "fa2cde82-e4bf-4370-af93-2c9b9e3c9e8a",
   "metadata": {},
   "outputs": [],
   "source": [
    "# On relie les horaires (stop_times) aux trajets (trips)\n",
    "merged = stop_times.merge(trips, on=\"trip_id\")\n",
    "merged = merged.merge(routes, on=\"route_id\") # ajoute le nom de la ligne (routes)\n",
    "gtfs_full_schedule = merged.merge(stops, on=\"stop_id\")# ajoute les infos sur les arrêts (stops)"
   ]
  },
  {
   "cell_type": "code",
   "execution_count": 5,
   "id": "f2500ce5-a351-445e-a370-67dcdcd3d08f",
   "metadata": {},
   "outputs": [],
   "source": [
    "#print(gtfs_full_schedule.head())"
   ]
  },
  {
   "cell_type": "markdown",
   "id": "bf3d1886-8165-407a-98a5-4764f7e4b380",
   "metadata": {},
   "source": [
    "#### gtfs_full_schedule contient \n",
    " ##### route_short_name ou route_long_name → le nom de la ligne de bus, \n",
    " ##### stop_name → le nom de l’arrêt,\n",
    " ##### arrival_time, departure_time → les horaires,\n",
    " ##### stop_lat, stop_lon → les coordonnées GPS."
   ]
  },
  {
   "cell_type": "markdown",
   "id": "68118fae-5add-457f-99f5-142616603074",
   "metadata": {},
   "source": [
    "#### Lors de la fusion des données, certaines colonnes sont apparues en double. Pour obtenir des colonnes uniques avec des noms clairs, je vais supprimer les doublons et renommer les colonnes restantes."
   ]
  },
  {
   "cell_type": "code",
   "execution_count": 6,
   "id": "f2be757b-15bf-45ac-9ef4-4cea3c023fce",
   "metadata": {},
   "outputs": [],
   "source": [
    "# supprimer les _y\n",
    "#gtfs_full_schedule = gtfs_full_schedule.drop(columns=[\n",
    "    #'agency_id_y', 'route_short_name_y', 'route_long_name_y',\n",
    "    #'route_desc_y', 'route_type_y', 'route_color_y', 'route_text_color_y',\n",
    "    #'stop_code_y', 'stop_name_y', 'stop_desc_y', 'stop_lat_y', 'stop_lon_y',\n",
    "    #'location_type_y', 'parent_station_y', 'wheelchair_boarding_y'])"
   ]
  },
  {
   "cell_type": "code",
   "execution_count": 7,
   "id": "1f9309e7-5f47-4c8c-93d8-efa34bb71463",
   "metadata": {},
   "outputs": [],
   "source": [
    "#  Renommer les colonnes en enlevant le '_x'\n",
    "gtfs_full_schedule.rename(columns={\n",
    "    'agency_id_x': 'agency_id',\n",
    "    'route_short_name_x': 'route_short_name',\n",
    "    'route_long_name_x': 'route_long_name',\n",
    "    'route_desc_x': 'route_desc',\n",
    "    'route_type_x': 'route_type',\n",
    "    'route_color_x': 'route_color',\n",
    "    'route_text_color_x': 'route_text_color',\n",
    "    'stop_code_x': 'stop_code',\n",
    "    'stop_name_x': 'stop_name',\n",
    "    'stop_desc_x': 'stop_desc',\n",
    "    'stop_lat_x': 'stop_lat',\n",
    "    'stop_lon_x': 'stop_lon',\n",
    "    'location_type_x': 'location_type',\n",
    "    'parent_station_x': 'parent_station',\n",
    "    'wheelchair_boarding_x': 'wheelchair_boarding'\n",
    "}, inplace=True)"
   ]
  },
  {
   "cell_type": "code",
   "execution_count": 8,
   "id": "b9c23e26-dc77-4ecf-a0af-20bb503a0816",
   "metadata": {},
   "outputs": [],
   "source": [
    "#print(gtfs_full_schedule.columns)"
   ]
  },
  {
   "cell_type": "code",
   "execution_count": 9,
   "id": "8226ac02-a7ac-4ad2-80e5-1004a0944e50",
   "metadata": {},
   "outputs": [],
   "source": [
    "df= pd.DataFrame(gtfs_full_schedule)\n",
    "df.to_csv(\"gtfs_full_schedule\")"
   ]
  },
  {
   "cell_type": "code",
   "execution_count": 10,
   "id": "ca7ef5dc-cbb7-48b5-b549-4e71acb35efc",
   "metadata": {},
   "outputs": [
    {
     "ename": "AttributeError",
     "evalue": "Can only use .dt accessor with datetimelike values",
     "output_type": "error",
     "traceback": [
      "\u001b[1;31m---------------------------------------------------------------------------\u001b[0m",
      "\u001b[1;31mAttributeError\u001b[0m                            Traceback (most recent call last)",
      "Cell \u001b[1;32mIn[10], line 2\u001b[0m\n\u001b[0;32m      1\u001b[0m \u001b[38;5;66;03m# Extraire l'heure depuis departure_time\u001b[39;00m\n\u001b[1;32m----> 2\u001b[0m gtfs_full_schedule[\u001b[38;5;124m'\u001b[39m\u001b[38;5;124mdeparture_hour\u001b[39m\u001b[38;5;124m'\u001b[39m] \u001b[38;5;241m=\u001b[39m \u001b[43mgtfs_full_schedule\u001b[49m\u001b[43m[\u001b[49m\u001b[38;5;124;43m'\u001b[39;49m\u001b[38;5;124;43mdeparture_time\u001b[39;49m\u001b[38;5;124;43m'\u001b[39;49m\u001b[43m]\u001b[49m\u001b[38;5;241;43m.\u001b[39;49m\u001b[43mdt\u001b[49m\u001b[38;5;241m.\u001b[39mcomponents[\u001b[38;5;124m'\u001b[39m\u001b[38;5;124mhours\u001b[39m\u001b[38;5;124m'\u001b[39m]\n\u001b[0;32m      4\u001b[0m \u001b[38;5;66;03m# Compter le nombre de trajets par heure\u001b[39;00m\n\u001b[0;32m      5\u001b[0m hourly_counts \u001b[38;5;241m=\u001b[39m gtfs_full_schedule[\u001b[38;5;124m'\u001b[39m\u001b[38;5;124mdeparture_hour\u001b[39m\u001b[38;5;124m'\u001b[39m]\u001b[38;5;241m.\u001b[39mvalue_counts()\u001b[38;5;241m.\u001b[39msort_index()\n",
      "File \u001b[1;32m~\\anaconda3\\Lib\\site-packages\\pandas\\core\\generic.py:6299\u001b[0m, in \u001b[0;36mNDFrame.__getattr__\u001b[1;34m(self, name)\u001b[0m\n\u001b[0;32m   6292\u001b[0m \u001b[38;5;28;01mif\u001b[39;00m (\n\u001b[0;32m   6293\u001b[0m     name \u001b[38;5;129;01mnot\u001b[39;00m \u001b[38;5;129;01min\u001b[39;00m \u001b[38;5;28mself\u001b[39m\u001b[38;5;241m.\u001b[39m_internal_names_set\n\u001b[0;32m   6294\u001b[0m     \u001b[38;5;129;01mand\u001b[39;00m name \u001b[38;5;129;01mnot\u001b[39;00m \u001b[38;5;129;01min\u001b[39;00m \u001b[38;5;28mself\u001b[39m\u001b[38;5;241m.\u001b[39m_metadata\n\u001b[0;32m   6295\u001b[0m     \u001b[38;5;129;01mand\u001b[39;00m name \u001b[38;5;129;01mnot\u001b[39;00m \u001b[38;5;129;01min\u001b[39;00m \u001b[38;5;28mself\u001b[39m\u001b[38;5;241m.\u001b[39m_accessors\n\u001b[0;32m   6296\u001b[0m     \u001b[38;5;129;01mand\u001b[39;00m \u001b[38;5;28mself\u001b[39m\u001b[38;5;241m.\u001b[39m_info_axis\u001b[38;5;241m.\u001b[39m_can_hold_identifiers_and_holds_name(name)\n\u001b[0;32m   6297\u001b[0m ):\n\u001b[0;32m   6298\u001b[0m     \u001b[38;5;28;01mreturn\u001b[39;00m \u001b[38;5;28mself\u001b[39m[name]\n\u001b[1;32m-> 6299\u001b[0m \u001b[38;5;28;01mreturn\u001b[39;00m \u001b[38;5;28;43mobject\u001b[39;49m\u001b[38;5;241;43m.\u001b[39;49m\u001b[38;5;21;43m__getattribute__\u001b[39;49m\u001b[43m(\u001b[49m\u001b[38;5;28;43mself\u001b[39;49m\u001b[43m,\u001b[49m\u001b[43m \u001b[49m\u001b[43mname\u001b[49m\u001b[43m)\u001b[49m\n",
      "File \u001b[1;32m~\\anaconda3\\Lib\\site-packages\\pandas\\core\\accessor.py:224\u001b[0m, in \u001b[0;36mCachedAccessor.__get__\u001b[1;34m(self, obj, cls)\u001b[0m\n\u001b[0;32m    221\u001b[0m \u001b[38;5;28;01mif\u001b[39;00m obj \u001b[38;5;129;01mis\u001b[39;00m \u001b[38;5;28;01mNone\u001b[39;00m:\n\u001b[0;32m    222\u001b[0m     \u001b[38;5;66;03m# we're accessing the attribute of the class, i.e., Dataset.geo\u001b[39;00m\n\u001b[0;32m    223\u001b[0m     \u001b[38;5;28;01mreturn\u001b[39;00m \u001b[38;5;28mself\u001b[39m\u001b[38;5;241m.\u001b[39m_accessor\n\u001b[1;32m--> 224\u001b[0m accessor_obj \u001b[38;5;241m=\u001b[39m \u001b[38;5;28;43mself\u001b[39;49m\u001b[38;5;241;43m.\u001b[39;49m\u001b[43m_accessor\u001b[49m\u001b[43m(\u001b[49m\u001b[43mobj\u001b[49m\u001b[43m)\u001b[49m\n\u001b[0;32m    225\u001b[0m \u001b[38;5;66;03m# Replace the property with the accessor object. Inspired by:\u001b[39;00m\n\u001b[0;32m    226\u001b[0m \u001b[38;5;66;03m# https://www.pydanny.com/cached-property.html\u001b[39;00m\n\u001b[0;32m    227\u001b[0m \u001b[38;5;66;03m# We need to use object.__setattr__ because we overwrite __setattr__ on\u001b[39;00m\n\u001b[0;32m    228\u001b[0m \u001b[38;5;66;03m# NDFrame\u001b[39;00m\n\u001b[0;32m    229\u001b[0m \u001b[38;5;28mobject\u001b[39m\u001b[38;5;241m.\u001b[39m\u001b[38;5;21m__setattr__\u001b[39m(obj, \u001b[38;5;28mself\u001b[39m\u001b[38;5;241m.\u001b[39m_name, accessor_obj)\n",
      "File \u001b[1;32m~\\anaconda3\\Lib\\site-packages\\pandas\\core\\indexes\\accessors.py:643\u001b[0m, in \u001b[0;36mCombinedDatetimelikeProperties.__new__\u001b[1;34m(cls, data)\u001b[0m\n\u001b[0;32m    640\u001b[0m \u001b[38;5;28;01melif\u001b[39;00m \u001b[38;5;28misinstance\u001b[39m(data\u001b[38;5;241m.\u001b[39mdtype, PeriodDtype):\n\u001b[0;32m    641\u001b[0m     \u001b[38;5;28;01mreturn\u001b[39;00m PeriodProperties(data, orig)\n\u001b[1;32m--> 643\u001b[0m \u001b[38;5;28;01mraise\u001b[39;00m \u001b[38;5;167;01mAttributeError\u001b[39;00m(\u001b[38;5;124m\"\u001b[39m\u001b[38;5;124mCan only use .dt accessor with datetimelike values\u001b[39m\u001b[38;5;124m\"\u001b[39m)\n",
      "\u001b[1;31mAttributeError\u001b[0m: Can only use .dt accessor with datetimelike values"
     ]
    }
   ],
   "source": [
    "# Extraire l'heure depuis departure_time\n",
    "gtfs_full_schedule['departure_hour'] = gtfs_full_schedule['departure_time'].dt.components['hours']\n",
    "\n",
    "# Compter le nombre de trajets par heure\n",
    "hourly_counts = gtfs_full_schedule['departure_hour'].value_counts().sort_index()\n",
    "\n",
    "# Afficher un graphique\n",
    "import matplotlib.pyplot as plt\n",
    "\n",
    "plt.figure(figsize=(10, 5))\n",
    "hourly_counts.plot(kind='bar', color='skyblue')\n",
    "plt.title(\"Nombre de départs par heure\")\n",
    "plt.xlabel(\"Heure de la journée\")\n",
    "plt.ylabel(\"Nombre de départs\")\n",
    "plt.grid(axis='y')\n",
    "plt.show()\n"
   ]
  }
 ],
 "metadata": {
  "kernelspec": {
   "display_name": "Python 3 (ipykernel)",
   "language": "python",
   "name": "python3"
  },
  "language_info": {
   "codemirror_mode": {
    "name": "ipython",
    "version": 3
   },
   "file_extension": ".py",
   "mimetype": "text/x-python",
   "name": "python",
   "nbconvert_exporter": "python",
   "pygments_lexer": "ipython3",
   "version": "3.12.7"
  }
 },
 "nbformat": 4,
 "nbformat_minor": 5
}
